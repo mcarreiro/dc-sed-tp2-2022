{
 "cells": [
  {
   "cell_type": "code",
   "execution_count": 268,
   "id": "add4aed0-4392-442a-87fa-1a9b7cd3decd",
   "metadata": {},
   "outputs": [],
   "source": [
    "import numpy as np\n",
    "import matplotlib.pyplot as plt\n",
    "import os\n",
    "from random import randrange, uniform\n"
   ]
  },
  {
   "cell_type": "code",
   "execution_count": 17,
   "id": "4ee84977-6ad0-49cc-a3c7-71be98928bb2",
   "metadata": {},
   "outputs": [],
   "source": [
    "from pathlib import Path\n",
    "\n",
    "SED_HOME = Path.home().joinpath('SED')\n",
    "\n",
    "#Directorio base donde está instalado el siumulador\n",
    "CDPP_DIR = SED_HOME.joinpath('CDPP_ExtendedStates-codename-Santi')\n",
    "\n",
    "CDPP_SRC = CDPP_DIR.joinpath('src')\n",
    "CDPP_EXAMPLES = CDPP_DIR.joinpath('examples')\n",
    "CDPP_SCRIPTS = CDPP_DIR.joinpath('scripts')\n",
    "BASE_BIN = CDPP_SRC.joinpath('bin')\n",
    "CDPP_ATOMICS = CDPP_SRC.joinpath('cd++/atomics')\n",
    "\n",
    "CDPP_EXAMPLES_CELL = CDPP_EXAMPLES.joinpath('cell-devs')\n",
    "CDPP_BIN = BASE_BIN.joinpath('cd++')\n",
    "DRAWLOG_BIN = BASE_BIN.joinpath('drawlog')\n"
   ]
  },
  {
   "cell_type": "code",
   "execution_count": 18,
   "id": "4401b975-1e12-431f-a816-dcb712309587",
   "metadata": {},
   "outputs": [],
   "source": [
    "majority_folder = str(CDPP_EXAMPLES_CELL)+\"/majority\""
   ]
  },
  {
   "cell_type": "code",
   "execution_count": 151,
   "id": "084818e2-b900-45e2-8efa-a13973a2dc24",
   "metadata": {},
   "outputs": [],
   "source": [
    "def run_majority():\n",
    "    command = \"cd \"+ majority_folder + \" && ../../../src/bin/cd++ -m majority.ma -l majority.log -t 00:32:00:000\"\n",
    "    os.system(command)  "
   ]
  },
  {
   "cell_type": "code",
   "execution_count": 40,
   "id": "edc7cace-d8c8-4f18-8379-599b966301e3",
   "metadata": {},
   "outputs": [],
   "source": [
    "def time_to_secs(time):\n",
    "    h, m, s, ms, r = time.split(':')\n",
    "    return float(h)*60*60. + float(m)*60. + float(s) + float(ms)/1000. + float(r)/1000."
   ]
  },
  {
   "cell_type": "code",
   "execution_count": 246,
   "id": "01102d22-c15e-4117-a083-be6785ce6e8c",
   "metadata": {},
   "outputs": [],
   "source": [
    "def numpy_arrays_from_log(rows, columns):\n",
    "    log_path= majority_folder + \"/majority.log01\"\n",
    "    with open(log_path) as f:\n",
    "        lines = f.readlines()\n",
    "    lines = list(filter(lambda x : \"out\" in x, lines))\n",
    "    times = list(map(lambda x : time_to_secs((x.split(\"/\")[3])), lines))\n",
    "    values = list(map(lambda x : float((x.split(\"/\")[6]).strip()), lines))\n",
    "    positions = list(map(lambda x : (x.split(\"/\")[4].split(\"(\")[1].split(\")\")[0]).split(\",\"), lines))\n",
    "    positions = list(map(lambda x : (int(x[0]), int(x[1]) ), positions) )\n",
    "\n",
    "    current_values = np.array(values[:rows*columns]).reshape((rows, columns))\n",
    "    current_t = times[0]\n",
    "    grids = []\n",
    "    for t, v, pos in zip(times,values,positions):\n",
    "        if current_t != t:\n",
    "            current_t = t\n",
    "            grids.append(np.copy(current_values))\n",
    "        i, j = pos\n",
    "        current_values[i][j] = v\n",
    "    grids.append(current_values)\n",
    "\n",
    "    return grids"
   ]
  },
  {
   "cell_type": "code",
   "execution_count": 80,
   "id": "16c31935-76fd-4c14-a3d5-3c2d3f3220c6",
   "metadata": {},
   "outputs": [],
   "source": [
    "def get_global_vote_series(grids):\n",
    "    return [np.mean(x) for x in grids]"
   ]
  },
  {
   "cell_type": "code",
   "execution_count": 158,
   "id": "72102229-6d9f-4ad4-a92a-df908845c5e0",
   "metadata": {},
   "outputs": [],
   "source": [
    "def set_model_grid_size(rows, columns):\n",
    "    ma_path= majority_folder + \"/majority.ma\"\n",
    "\n",
    "    with open(ma_path, 'r') as file:\n",
    "        lines = file.readlines()\n",
    "    dim_ind = filter( lambda x: \"dim : \" in x[1], enumerate(lines))\n",
    "    dim_ind = next(map(lambda x: x[0], dim_ind))\n",
    "    lines[dim_ind] = \"dim : (\" + str(rows) + \",\" + str(columns) + \")\\n\"\n",
    "    with open(ma_path, 'w') as file:\n",
    "        file.writelines( lines )"
   ]
  },
  {
   "cell_type": "code",
   "execution_count": 307,
   "id": "638f4d7a-e980-462f-93cb-cdb6392e5d43",
   "metadata": {},
   "outputs": [],
   "source": [
    "def initial_val_generator(rows, columns, p=0.5):\n",
    "    val_path= majority_folder + \"/majority.val\"\n",
    "    lines = []\n",
    "    for i in range(rows):\n",
    "        for j in range(columns):\n",
    "            pos = \"(\" + str(i) + \",\" + str(j) + \") = \"\n",
    "            val =  int(uniform(0,1) > p)\n",
    "            lines.append(pos + str(val) + \"\\n\")\n",
    "\n",
    "            # lines.append(pos + \"[\" + str(val) + \",0]\" + \"\\n\")\n",
    "\n",
    "    with open(val_path, 'w') as file:\n",
    "        file.writelines( lines )"
   ]
  },
  {
   "cell_type": "code",
   "execution_count": 217,
   "id": "e812372c-e610-4266-88ae-68300ca99488",
   "metadata": {},
   "outputs": [],
   "source": [
    "columns = 40\n",
    "rows = 40"
   ]
  },
  {
   "cell_type": "code",
   "execution_count": 299,
   "id": "90006b75-b653-45c2-9fc8-9cc1580f0cc9",
   "metadata": {},
   "outputs": [],
   "source": [
    "initial_val_generator(rows,columns)"
   ]
  },
  {
   "cell_type": "code",
   "execution_count": 300,
   "id": "97266aa4-3901-44e4-ac04-6fa0191e5e89",
   "metadata": {},
   "outputs": [],
   "source": [
    "set_model_grid_size(rows,columns)"
   ]
  },
  {
   "cell_type": "code",
   "execution_count": 301,
   "id": "e37b70cb-d5e0-4e5f-88b7-d263e2563e51",
   "metadata": {},
   "outputs": [
    {
     "name": "stdout",
     "output_type": "stream",
     "text": [
      "PCD++: A Tool to Implement n-Dimensional Cell-DEVS models\n",
      "Version 3.0 - March 2003\n",
      "Troccoli A., Rodriguez D., Wainer G., Barylko A., Beyoglonian J., Lopez A.\n",
      "-----------------------------------------------------------------------------\n",
      "PCD++ Extended States: An extended and improved version of CD++ for Cell-DEVS\n",
      "Version 4.1.2 - December 2018\n",
      "Santi L., Castro, R., Pimás, J.\n",
      "-----------------------------------------------------------------------------\n",
      "Discrete Event Simulation Lab\n",
      "Departamento de Computación\n",
      "Facultad de Ciencias Exactas y Naturales\n",
      "Universidad de Buenos Aires, Argentina\n",
      "-----------------------------------------------------------------------------\n",
      "Compiled for standalone simulation\n",
      "\n",
      "\n",
      "Loading models from majority.ma\n",
      "Loading events from \n",
      "Running parallel simulation. Reading models partition from \n",
      "Model partition details output to: /dev/null*\n",
      "Message log: majority.log\n",
      "Output to: /dev/null\n",
      "Tolerance set to: 1e-08\n",
      "Configuration to show real numbers: Width = 12 - Precision = 5\n",
      "Quantum: Not used\n",
      "Evaluate Debug Mode = OFF\n",
      "Flat Cell Debug Mode = OFF\n",
      "Debug Cell Rules Mode = OFF\n",
      "Temporary File created by Preprocessor = /tmp/fileW5dBhs\n",
      "Printing parser information = OFF\n",
      "\n",
      "Stop at time: 00:32:00:000:0\n",
      "LP 0: initializing simulation objects\n",
      "LP 0: starting simulation (NoTime).\n"
     ]
    },
    {
     "name": "stderr",
     "output_type": "stream",
     "text": [
      "At 00:00:00:200:0\r"
     ]
    },
    {
     "name": "stdout",
     "output_type": "stream",
     "text": [
      "Simulation complete!\n",
      "Simulation ended!\n",
      "LP 0 has finished simulation \n"
     ]
    },
    {
     "name": "stderr",
     "output_type": "stream",
     "text": [
      "At 00:00:02:400:0\r"
     ]
    }
   ],
   "source": [
    "run_majority()"
   ]
  },
  {
   "cell_type": "code",
   "execution_count": 302,
   "id": "d18b4823-47f2-4885-8536-d12fcd78f18c",
   "metadata": {},
   "outputs": [],
   "source": [
    "grids = numpy_arrays_from_log(rows,columns)"
   ]
  },
  {
   "cell_type": "code",
   "execution_count": 303,
   "id": "8d59044a-245e-4046-89ef-eb81a788d71f",
   "metadata": {},
   "outputs": [
    {
     "data": {
      "text/plain": [
       "[<matplotlib.lines.Line2D at 0x7f68fe7dde48>]"
      ]
     },
     "execution_count": 303,
     "metadata": {},
     "output_type": "execute_result"
    },
    {
     "data": {
      "image/png": "[encoded data removed]",
      "text/plain": [
       "<Figure size 432x288 with 1 Axes>"
      ]
     },
     "metadata": {
      "needs_background": "light"
     },
     "output_type": "display_data"
    }
   ],
   "source": [
    "plt.plot(get_global_vote_series(grids))"
   ]
  },
  {
   "cell_type": "code",
   "execution_count": 306,
   "id": "d914b02c-e678-4747-af16-da4973631404",
   "metadata": {},
   "outputs": [
    {
     "data": {
      "text/plain": [
       "<matplotlib.image.AxesImage at 0x7f68fe691e48>"
      ]
     },
     "execution_count": 306,
     "metadata": {},
     "output_type": "execute_result"
    },
    {
     "data": {
      "image/png": "[encoded data removed]",
      "text/plain": [
       "<Figure size 432x288 with 1 Axes>"
      ]
     },
     "metadata": {
      "needs_background": "light"
     },
     "output_type": "display_data"
    }
   ],
   "source": [
    "plt.imshow(grids[5])\n"
   ]
  },
  {
   "cell_type": "code",
   "execution_count": 312,
   "id": "d3eff158-ab25-4b61-ac03-b022aabdc0e9",
   "metadata": {},
   "outputs": [
    {
     "name": "stdout",
     "output_type": "stream",
     "text": [
      "PCD++: A Tool to Implement n-Dimensional Cell-DEVS models\n",
      "Version 3.0 - March 2003\n",
      "Troccoli A., Rodriguez D., Wainer G., Barylko A., Beyoglonian J., Lopez A.\n",
      "-----------------------------------------------------------------------------\n",
      "PCD++ Extended States: An extended and improved version of CD++ for Cell-DEVS\n",
      "Version 4.1.2 - December 2018\n",
      "Santi L., Castro, R., Pimás, J.\n",
      "-----------------------------------------------------------------------------\n",
      "Discrete Event Simulation Lab\n",
      "Departamento de Computación\n",
      "Facultad de Ciencias Exactas y Naturales\n",
      "Universidad de Buenos Aires, Argentina\n",
      "-----------------------------------------------------------------------------\n",
      "Compiled for standalone simulation\n",
      "\n",
      "\n",
      "Loading models from majority.ma\n",
      "Loading events from \n",
      "Running parallel simulation. Reading models partition from \n",
      "Model partition details output to: /dev/null*\n",
      "Message log: majority.log\n",
      "Output to: /dev/null\n",
      "Tolerance set to: 1e-08\n",
      "Configuration to show real numbers: Width = 12 - Precision = 5\n",
      "Quantum: Not used\n",
      "Evaluate Debug Mode = OFF\n",
      "Flat Cell Debug Mode = OFF\n",
      "Debug Cell Rules Mode = OFF\n",
      "Temporary File created by Preprocessor = /tmp/fileu0AE0e\n",
      "Printing parser information = OFF\n",
      "\n",
      "Stop at time: 00:32:00:000:0\n",
      "LP 0: initializing simulation objects\n",
      "LP 0: starting simulation (NoTime).\n"
     ]
    },
    {
     "name": "stderr",
     "output_type": "stream",
     "text": [
      "At 00:00:00:400:0\r"
     ]
    },
    {
     "name": "stdout",
     "output_type": "stream",
     "text": [
      "Simulation complete!\n",
      "Simulation ended!\n",
      "LP 0 has finished simulation \n",
      "PCD++: A Tool to Implement n-Dimensional Cell-DEVS models\n",
      "Version 3.0 - March 2003\n",
      "Troccoli A., Rodriguez D., Wainer G., Barylko A., Beyoglonian J., Lopez A.\n",
      "-----------------------------------------------------------------------------\n",
      "PCD++ Extended States: An extended and improved version of CD++ for Cell-DEVS\n",
      "Version 4.1.2 - December 2018\n",
      "Santi L., Castro, R., Pimás, J.\n",
      "-----------------------------------------------------------------------------\n",
      "Discrete Event Simulation Lab\n",
      "Departamento de Computación\n",
      "Facultad de Ciencias Exactas y Naturales\n",
      "Universidad de Buenos Aires, Argentina\n",
      "-----------------------------------------------------------------------------\n",
      "Compiled for standalone simulation\n",
      "\n",
      "\n",
      "Loading models from majority.ma\n",
      "Loading events from \n",
      "Running parallel simulation. Reading models partition from \n",
      "Model partition details output to: /dev/null*\n",
      "Message log: majority.log\n",
      "Output to: /dev/null\n",
      "Tolerance set to: 1e-08\n",
      "Configuration to show real numbers: Width = 12 - Precision = 5\n",
      "Quantum: Not used\n",
      "Evaluate Debug Mode = OFF\n",
      "Flat Cell Debug Mode = OFF\n",
      "Debug Cell Rules Mode = OFF\n",
      "Temporary File created by Preprocessor = /tmp/filezZMm25\n",
      "Printing parser information = OFF\n",
      "\n",
      "Stop at time: 00:32:00:000:0\n",
      "LP 0: initializing simulation objects\n",
      "LP 0: starting simulation (NoTime).\n"
     ]
    },
    {
     "name": "stderr",
     "output_type": "stream",
     "text": [
      "At 00:00:01:600:0\r"
     ]
    },
    {
     "name": "stdout",
     "output_type": "stream",
     "text": [
      "Simulation complete!\n",
      "Simulation ended!\n",
      "LP 0 has finished simulation \n",
      "PCD++: A Tool to Implement n-Dimensional Cell-DEVS models\n",
      "Version 3.0 - March 2003\n",
      "Troccoli A., Rodriguez D., Wainer G., Barylko A., Beyoglonian J., Lopez A.\n",
      "-----------------------------------------------------------------------------\n",
      "PCD++ Extended States: An extended and improved version of CD++ for Cell-DEVS\n",
      "Version 4.1.2 - December 2018\n",
      "Santi L., Castro, R., Pimás, J.\n",
      "-----------------------------------------------------------------------------\n",
      "Discrete Event Simulation Lab\n",
      "Departamento de Computación\n",
      "Facultad de Ciencias Exactas y Naturales\n",
      "Universidad de Buenos Aires, Argentina\n",
      "-----------------------------------------------------------------------------\n",
      "Compiled for standalone simulation\n",
      "\n",
      "\n",
      "Loading models from majority.ma\n",
      "Loading events from \n",
      "Running parallel simulation. Reading models partition from \n",
      "Model partition details output to: /dev/null*\n",
      "Message log: majority.log\n",
      "Output to: /dev/null\n",
      "Tolerance set to: 1e-08\n",
      "Configuration to show real numbers: Width = 12 - Precision = 5\n",
      "Quantum: Not used\n",
      "Evaluate Debug Mode = OFF\n",
      "Flat Cell Debug Mode = OFF\n",
      "Debug Cell Rules Mode = OFF\n",
      "Temporary File created by Preprocessor = /tmp/fileHJqqCz\n",
      "Printing parser information = OFF\n",
      "\n",
      "Stop at time: 00:32:00:000:0\n",
      "LP 0: initializing simulation objects\n",
      "LP 0: starting simulation (NoTime).\n"
     ]
    },
    {
     "name": "stderr",
     "output_type": "stream",
     "text": [
      "At 00:00:02:100:0\r"
     ]
    },
    {
     "name": "stdout",
     "output_type": "stream",
     "text": [
      "Simulation complete!\n",
      "Simulation ended!\n",
      "LP 0 has finished simulation \n"
     ]
    },
    {
     "data": {
      "image/png": "[encoded data removed]",
      "text/plain": [
       "<Figure size 432x288 with 1 Axes>"
      ]
     },
     "metadata": {
      "needs_background": "light"
     },
     "output_type": "display_data"
    }
   ],
   "source": [
    "for p in [0.2, 0.4, 0.5]:\n",
    "    initial_val_generator(rows,columns, p)\n",
    "    run_majority()\n",
    "    grids = numpy_arrays_from_log(rows,columns)\n",
    "    plt.plot(get_global_vote_series(grids), label=str(p))\n",
    "    plt.legend()"
   ]
  },
  {
   "cell_type": "code",
   "execution_count": 310,
   "id": "26eaf044-2cdc-4dfe-93fa-d9364893a53b",
   "metadata": {},
   "outputs": [
    {
     "data": {
      "text/plain": [
       "<matplotlib.image.AxesImage at 0x7f68fd1a8da0>"
      ]
     },
     "execution_count": 310,
     "metadata": {},
     "output_type": "execute_result"
    },
    {
     "data": {
      "image/png": "[encoded data removed]",
      "text/plain": [
       "<Figure size 432x288 with 1 Axes>"
      ]
     },
     "metadata": {
      "needs_background": "light"
     },
     "output_type": "display_data"
    }
   ],
   "source": [
    "plt.imshow(grids[17])\n"
   ]
  },
  {
   "cell_type": "code",
   "execution_count": 31,
   "id": "bad44acf-850e-40b9-9a60-9495f25d7c93",
   "metadata": {},
   "outputs": [
    {
     "data": {
      "text/plain": [
       "['0 / L / Y / 00:00:00:000:0 / grid(0,0)(02) / out /      0.00000 / grid(01)\\n',\n",
       " '0 / L / Y / 00:00:00:000:0 / grid(0,1)(03) / out /      0.00000 / grid(01)\\n',\n",
       " '0 / L / Y / 00:00:00:000:0 / grid(0,2)(04) / out /      0.00000 / grid(01)\\n',\n",
       " '0 / L / Y / 00:00:00:000:0 / grid(0,3)(05) / out /      0.00000 / grid(01)\\n',\n",
       " '0 / L / Y / 00:00:00:000:0 / grid(0,4)(06) / out /      0.00000 / grid(01)\\n',\n",
       " '0 / L / Y / 00:00:00:000:0 / grid(1,0)(07) / out /      0.00000 / grid(01)\\n',\n",
       " '0 / L / Y / 00:00:00:000:0 / grid(1,1)(08) / out /      0.00000 / grid(01)\\n',\n",
       " '0 / L / Y / 00:00:00:000:0 / grid(1,2)(09) / out /      0.00000 / grid(01)\\n',\n",
       " '0 / L / Y / 00:00:00:000:0 / grid(1,3)(10) / out /      0.00000 / grid(01)\\n',\n",
       " '0 / L / Y / 00:00:00:000:0 / grid(1,4)(11) / out /      0.00000 / grid(01)\\n',\n",
       " '0 / L / Y / 00:00:00:000:0 / grid(2,0)(12) / out /      0.00000 / grid(01)\\n',\n",
       " '0 / L / Y / 00:00:00:000:0 / grid(2,1)(13) / out /      0.00000 / grid(01)\\n',\n",
       " '0 / L / Y / 00:00:00:000:0 / grid(2,2)(14) / out /      0.00000 / grid(01)\\n',\n",
       " '0 / L / Y / 00:00:00:000:0 / grid(2,3)(15) / out /      0.00000 / grid(01)\\n',\n",
       " '0 / L / Y / 00:00:00:000:0 / grid(2,4)(16) / out /      0.00000 / grid(01)\\n',\n",
       " '0 / L / Y / 00:00:00:000:0 / grid(3,0)(17) / out /      0.00000 / grid(01)\\n',\n",
       " '0 / L / Y / 00:00:00:000:0 / grid(3,1)(18) / out /      0.00000 / grid(01)\\n',\n",
       " '0 / L / Y / 00:00:00:000:0 / grid(3,2)(19) / out /      0.00000 / grid(01)\\n',\n",
       " '0 / L / Y / 00:00:00:000:0 / grid(3,3)(20) / out /      0.00000 / grid(01)\\n',\n",
       " '0 / L / Y / 00:00:00:000:0 / grid(3,4)(21) / out /      0.00000 / grid(01)\\n',\n",
       " '0 / L / Y / 00:00:00:000:0 / grid(4,0)(22) / out /      0.00000 / grid(01)\\n',\n",
       " '0 / L / Y / 00:00:00:000:0 / grid(4,1)(23) / out /      0.00000 / grid(01)\\n',\n",
       " '0 / L / Y / 00:00:00:000:0 / grid(4,2)(24) / out /      0.00000 / grid(01)\\n',\n",
       " '0 / L / Y / 00:00:00:000:0 / grid(4,3)(25) / out /      0.00000 / grid(01)\\n',\n",
       " '0 / L / Y / 00:00:00:000:0 / grid(4,4)(26) / out /      1.00000 / grid(01)\\n',\n",
       " '0 / L / Y / 00:00:00:100:0 / grid(4,4)(26) / out /      0.00000 / grid(01)\\n']"
      ]
     },
     "execution_count": 31,
     "metadata": {},
     "output_type": "execute_result"
    }
   ],
   "source": [
    "numpy_arrays_from_log()"
   ]
  },
  {
   "cell_type": "code",
   "execution_count": null,
   "id": "ce97ef0b-12fc-4718-b2d8-60389fb902da",
   "metadata": {},
   "outputs": [],
   "source": []
  }
 ],
 "metadata": {
  "kernelspec": {
   "display_name": "Python 3 (ipykernel)",
   "language": "python",
   "name": "python3"
  },
  "language_info": {
   "codemirror_mode": {
    "name": "ipython",
    "version": 3
   },
   "file_extension": ".py",
   "mimetype": "text/x-python",
   "name": "python",
   "nbconvert_exporter": "python",
   "pygments_lexer": "ipython3",
   "version": "3.7.3"
  }
 },
 "nbformat": 4,
 "nbformat_minor": 5
}

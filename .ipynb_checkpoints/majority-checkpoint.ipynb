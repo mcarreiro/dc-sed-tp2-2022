{
 "cells": [
  {
   "cell_type": "code",
   "execution_count": 1,
   "id": "add4aed0-4392-442a-87fa-1a9b7cd3decd",
   "metadata": {},
   "outputs": [],
   "source": [
    "import numpy as np\n",
    "import matplotlib.pyplot as plt\n",
    "import os\n",
    "from random import randrange, uniform\n",
    "import PIL"
   ]
  },
  {
   "cell_type": "markdown",
   "id": "0580792b-7a02-403c-9b0c-ff949673315b",
   "metadata": {},
   "source": [
    "<span style=\"color:red\">SOLO CAMBIAR LOS PATHS!</span>."
   ]
  },
  {
   "cell_type": "code",
   "execution_count": 2,
   "id": "4ee84977-6ad0-49cc-a3c7-71be98928bb2",
   "metadata": {},
   "outputs": [
    {
     "data": {
      "text/plain": [
       "'/Users/mcarreiro/Documents/sed/CDPP/examples/dc-sed-tp2-2022'"
      ]
     },
     "execution_count": 2,
     "metadata": {},
     "output_type": "execute_result"
    }
   ],
   "source": [
    "from pathlib import Path\n",
    "\n",
    "SED_HOME = Path.home().joinpath('Documents').joinpath('sed')\n",
    "\n",
    "#Directorio base donde está instalado el siumulador\n",
    "CDPP_DIR = SED_HOME.joinpath('CDPP')\n",
    "\n",
    "CDPP_SRC = CDPP_DIR.joinpath('src')\n",
    "CDPP_EXAMPLES = CDPP_DIR.joinpath('examples')\n",
    "CDPP_SCRIPTS = CDPP_DIR.joinpath('scripts')\n",
    "BASE_BIN = CDPP_SRC.joinpath('bin')\n",
    "CDPP_ATOMICS = CDPP_SRC.joinpath('cd++/atomics')\n",
    "\n",
    "CDPP_EXAMPLES_CELL = CDPP_EXAMPLES.joinpath('cell-devs')\n",
    "CDPP_BIN = BASE_BIN.joinpath('cd++')\n",
    "DRAWLOG_BIN = BASE_BIN.joinpath('drawlog')\n",
    "\n",
    "majority_folder = str(CDPP_EXAMPLES)+\"/dc-sed-tp2-2022\"\n",
    "majority_folder"
   ]
  },
  {
   "cell_type": "code",
   "execution_count": 3,
   "id": "084818e2-b900-45e2-8efa-a13973a2dc24",
   "metadata": {},
   "outputs": [],
   "source": [
    "def run_majority():\n",
    "    command = str(BASE_BIN) + \"/cd++ -m majority.ma -l logs/majority.log -t 00:32:00:000\"\n",
    "    os.system(command)  "
   ]
  },
  {
   "cell_type": "code",
   "execution_count": 4,
   "id": "edc7cace-d8c8-4f18-8379-599b966301e3",
   "metadata": {},
   "outputs": [],
   "source": [
    "def time_to_secs(time):\n",
    "    h, m, s, ms, r = time.split(':')\n",
    "    return float(h)*60*60. + float(m)*60. + float(s) + float(ms)/1000. + float(r)/1000."
   ]
  },
  {
   "cell_type": "code",
   "execution_count": 5,
   "id": "01102d22-c15e-4117-a083-be6785ce6e8c",
   "metadata": {},
   "outputs": [],
   "source": [
    "def numpy_arrays_from_log(rows, columns):\n",
    "    log_path= majority_folder + \"/logs/majority.log01\"\n",
    "    with open(log_path) as f:\n",
    "        lines = f.readlines()\n",
    "    lines = list(filter(lambda x : \"out\" in x, lines))\n",
    "    times = list(map(lambda x : time_to_secs((x.split(\"/\")[3])), lines))\n",
    "    values = list(map(lambda x : float((x.split(\"/\")[6]).strip()), lines))\n",
    "    positions = list(map(lambda x : (x.split(\"/\")[4].split(\"(\")[1].split(\")\")[0]).split(\",\"), lines))\n",
    "    positions = list(map(lambda x : (int(x[0]), int(x[1]) ), positions) )\n",
    "\n",
    "    current_values = np.array(values[:rows*columns]).reshape((rows, columns))\n",
    "    current_t = times[0]\n",
    "    grids = []\n",
    "    for t, v, pos in zip(times,values,positions):\n",
    "        if current_t != t:\n",
    "            current_t = t\n",
    "            grids.append(np.copy(current_values))\n",
    "        i, j = pos\n",
    "        current_values[i][j] = v\n",
    "    grids.append(current_values)\n",
    "\n",
    "    return grids"
   ]
  },
  {
   "cell_type": "code",
   "execution_count": 6,
   "id": "16c31935-76fd-4c14-a3d5-3c2d3f3220c6",
   "metadata": {},
   "outputs": [],
   "source": [
    "def get_global_vote_series(grids):\n",
    "    return [np.mean(x) for x in grids]"
   ]
  },
  {
   "cell_type": "code",
   "execution_count": 7,
   "id": "72102229-6d9f-4ad4-a92a-df908845c5e0",
   "metadata": {},
   "outputs": [],
   "source": [
    "def set_model_grid_size(rows, columns):\n",
    "    ma_path= majority_folder + \"/majority.ma\"\n",
    "\n",
    "    with open(ma_path, 'r') as file:\n",
    "        lines = file.readlines()\n",
    "    dim_ind = filter( lambda x: \"dim : \" in x[1], enumerate(lines))\n",
    "    dim_ind = next(map(lambda x: x[0], dim_ind))\n",
    "    lines[dim_ind] = \"dim : (\" + str(rows) + \",\" + str(columns) + \")\\n\"\n",
    "    with open(ma_path, 'w') as file:\n",
    "        file.writelines( lines )"
   ]
  },
  {
   "cell_type": "code",
   "execution_count": 8,
   "id": "638f4d7a-e980-462f-93cb-cdb6392e5d43",
   "metadata": {},
   "outputs": [],
   "source": [
    "def initial_val_generator(rows, columns, p=0.5):\n",
    "    val_path= majority_folder + \"/majority.val\"\n",
    "    lines = []\n",
    "    for i in range(rows):\n",
    "        for j in range(columns):\n",
    "            pos = \"(\" + str(i) + \",\" + str(j) + \") = \"\n",
    "            val =  int(uniform(0,1) > p)\n",
    "            lines.append(pos + str(val) + \"\\n\")\n",
    "\n",
    "            # lines.append(pos + \"[\" + str(val) + \",0]\" + \"\\n\")\n",
    "\n",
    "    with open(val_path, 'w') as file:\n",
    "        file.writelines( lines )"
   ]
  },
  {
   "cell_type": "code",
   "execution_count": 9,
   "id": "a8da1a16-ac4c-4f6a-b9cc-9e0ee2f5f318",
   "metadata": {},
   "outputs": [],
   "source": [
    "def line_val_generator(rows, columns, p=0.9):\n",
    "    val_path= majority_folder + \"/majority.val\"\n",
    "    lines = []\n",
    "    last_val = 1\n",
    "    for i in range(rows):\n",
    "        for j in range(columns):\n",
    "            pos = \"(\" + str(i) + \",\" + str(j) + \") = \"\n",
    "            val =  last_val if uniform(0,1) > p else abs(1-last_val)\n",
    "            lines.append(pos + str(val) + \"\\n\")\n",
    "\n",
    "    with open(val_path, 'w') as file:\n",
    "        file.writelines( lines )"
   ]
  },
  {
   "cell_type": "code",
   "execution_count": 34,
   "id": "62f9e62a-0576-42d9-bc9a-ae42c357b3bb",
   "metadata": {},
   "outputs": [
    {
     "name": "stdout",
     "output_type": "stream",
     "text": [
      "(0, 16, 22)\n",
      "(2, 19, 4)\n",
      "(0, 3, 18)\n",
      "(1, 11, 58)\n",
      "(0, 30, 47)\n",
      "(1, 17, 4)\n",
      "(0, 8, 16)\n",
      "(0, 55, 25)\n",
      "(0, 20, 57)\n",
      "(1, 20, 41)\n"
     ]
    }
   ],
   "source": [
    "from PIL import Image\n",
    "\n",
    "def create_collage(width, height, listofimages, times, max_size):\n",
    "    all_white = (255, 255, 255)\n",
    "    new_im = Image.new('RGB', (width, height), all_white)\n",
    "    ims = []\n",
    "    for p in listofimages:\n",
    "        im = Image.open(p)\n",
    "        new_size = int(uniform(5,max_size))\n",
    "        im = im.resize((new_size, new_size))\n",
    "        ims.append(im)\n",
    "    for i in range(times):\n",
    "        img_random = int(uniform(0,len(ims)))\n",
    "        x_random = int(uniform(0,width))\n",
    "        y_random = int(uniform(0,width))\n",
    "        new_im.paste(ims[img_random], (x_random, y_random))\n",
    "\n",
    "    new_im.save(\"images/collage.jpg\")\n",
    "    \n",
    "create_collage(60, 60, ['images/circle.png','images/star.png', 'images/square.png'], 10, 30)"
   ]
  },
  {
   "cell_type": "code",
   "execution_count": 11,
   "id": "eaca09f3-7480-4696-8b6c-7ab559654d16",
   "metadata": {},
   "outputs": [],
   "source": [
    "def get_clusters(grid):\n",
    "    rows, columns = grid.shape[0], grid.shape[1]\n",
    "    not_seen = set()\n",
    "    for i in range(rows):\n",
    "        for j in range(columns):\n",
    "            not_seen.add((i,j))\n",
    "            \n",
    "    \n",
    "    clusters = []\n",
    "    n_clusters = 0\n",
    "    \n",
    "    while len(not_seen) > 0:\n",
    "        current_cluster = set()\n",
    "        i, j = not_seen.pop()\n",
    "        current_color = grid[i][j]\n",
    "        visited = set()\n",
    "        to_search = {(i,j)}\n",
    "        \n",
    "        while len(to_search) > 0:\n",
    "            i, j = to_search.pop()\n",
    "            \n",
    "            if (i,j) in visited:\n",
    "                continue\n",
    "            \n",
    "            visited.add((i,j))\n",
    "            \n",
    "            if current_color == grid[i][j]:\n",
    "                current_cluster.add((i,j))\n",
    "                \n",
    "                for di, dj in [(-1,-1),(1,-1),(-1,1),(1,1)]:\n",
    "                    to_search.add(((i+di)%rows, (j+dj)%columns))\n",
    "                    \n",
    "        clusters.append(current_cluster)\n",
    "        n_clusters += 1\n",
    "        not_seen = not_seen - current_cluster\n",
    "        \n",
    "\n",
    "    return n_clusters"
   ]
  },
  {
   "cell_type": "code",
   "execution_count": 12,
   "id": "db11c030",
   "metadata": {},
   "outputs": [],
   "source": [
    "def from_image(path, resize=(40,40)):\n",
    "    im = (PIL.Image.open(path))\n",
    "    im = im.resize(resize)\n",
    "    im = np.asarray(im)\n",
    "    im = np.mean(im,axis=2)\n",
    "    im = im >124 # ligeramente mas bajo para que se vea mejor\n",
    "    #im = im > np.mean(im)\n",
    "    return im\n",
    "\n",
    "def grid_to_val(grid):\n",
    "    val_path= majority_folder + \"/majority.val\"\n",
    "    lines = []\n",
    "    for i in range(rows):\n",
    "        for j in range(columns):\n",
    "            pos = \"(\" + str(i) + \",\" + str(j) + \") = \"\n",
    "            val =  grid[i][j]\n",
    "            lines.append(pos + str(val) + \"\\n\")\n",
    "\n",
    "    with open(val_path, 'w') as file:\n",
    "        file.writelines( lines )\n",
    "        \n",
    "def img_to_val(path, resize=(40,40)):\n",
    "    grid_to_val(from_image(path, resize=resize))"
   ]
  },
  {
   "cell_type": "code",
   "execution_count": 13,
   "id": "7c1b21cf",
   "metadata": {},
   "outputs": [
    {
     "data": {
      "text/plain": [
       "(-0.5, 99.5, 99.5, -0.5)"
      ]
     },
     "execution_count": 13,
     "metadata": {},
     "output_type": "execute_result"
    },
    {
     "data": {
      "image/png": "[encoded data removed]",
      "text/plain": [
       "<Figure size 640x480 with 1 Axes>"
      ]
     },
     "metadata": {},
     "output_type": "display_data"
    }
   ],
   "source": [
    "from matplotlib.pyplot import figure\n",
    "\n",
    "figure(figsize=(8, 6), dpi=80)\n",
    "\n",
    "im = from_image(\"images/Rodrigo-Castro.jpg\", (100,100))\n",
    "plt.imshow(255-im, cmap=\"Greys\")\n",
    "plt.axis('off')"
   ]
  },
  {
   "cell_type": "code",
   "execution_count": 14,
   "id": "e812372c-e610-4266-88ae-68300ca99488",
   "metadata": {},
   "outputs": [],
   "source": [
    "columns = 40\n",
    "rows = 40"
   ]
  },
  {
   "cell_type": "code",
   "execution_count": 15,
   "id": "90006b75-b653-45c2-9fc8-9cc1580f0cc9",
   "metadata": {},
   "outputs": [],
   "source": [
    "line_val_generator(rows,columns,0.7)"
   ]
  },
  {
   "cell_type": "code",
   "execution_count": 16,
   "id": "97266aa4-3901-44e4-ac04-6fa0191e5e89",
   "metadata": {},
   "outputs": [],
   "source": [
    "set_model_grid_size(rows,columns)"
   ]
  },
  {
   "cell_type": "code",
   "execution_count": 17,
   "id": "e37b70cb-d5e0-4e5f-88b7-d263e2563e51",
   "metadata": {},
   "outputs": [
    {
     "name": "stdout",
     "output_type": "stream",
     "text": [
      "PCD++: A Tool to Implement n-Dimensional Cell-DEVS models\n",
      "Version 3.0 - March 2003\n",
      "Troccoli A., Rodriguez D., Wainer G., Barylko A., Beyoglonian J., Lopez A.\n",
      "-----------------------------------------------------------------------------\n",
      "PCD++ Extended States: An extended and improved version of CD++ for Cell-DEVS\n",
      "Version 4.1.2 - December 2018\n",
      "Santi L., Castro, R., Pimás, J.\n",
      "-----------------------------------------------------------------------------\n",
      "Discrete Event Simulation Lab\n",
      "Departamento de Computación\n",
      "Facultad de Ciencias Exactas y Naturales\n",
      "Universidad de Buenos Aires, Argentina\n",
      "-----------------------------------------------------------------------------\n",
      "Compiled for standalone simulation\n",
      "\n",
      "\n",
      "Loading models from majority.ma\n",
      "Loading events from \n",
      "Running parallel simulation. Reading models partition from \n",
      "Model partition details output to: /dev/null*\n",
      "Message log: logs/majority.log\n",
      "Output to: /dev/null\n",
      "Tolerance set to: 1e-08\n",
      "Configuration to show real numbers: Width = 12 - Precision = 5\n",
      "Quantum: Not used\n",
      "Evaluate Debug Mode = OFF\n",
      "Flat Cell Debug Mode = OFF\n",
      "Debug Cell Rules Mode = OFF\n",
      "Temporary File created by Preprocessor = /var/tmp/tmp.0.Tbhnvp\n",
      "Printing parser information = OFF\n",
      "\n",
      "Stop at time: 00:32:00:000:0\n",
      "LP 0: initializing simulation objects\n",
      "LP 0: starting simulation (NoTime).\n"
     ]
    },
    {
     "name": "stderr",
     "output_type": "stream",
     "text": [
      "At 00:00:00:753:0\r"
     ]
    },
    {
     "name": "stdout",
     "output_type": "stream",
     "text": [
      "Simulation complete!\n",
      "Simulation ended!\n",
      "LP 0 has finished simulation \n"
     ]
    },
    {
     "name": "stderr",
     "output_type": "stream",
     "text": [
      "At 00:00:01:601:0\r"
     ]
    }
   ],
   "source": [
    "run_majority()"
   ]
  },
  {
   "cell_type": "code",
   "execution_count": 18,
   "id": "d18b4823-47f2-4885-8536-d12fcd78f18c",
   "metadata": {},
   "outputs": [],
   "source": [
    "grids = numpy_arrays_from_log(rows,columns)"
   ]
  },
  {
   "cell_type": "code",
   "execution_count": 19,
   "id": "8d59044a-245e-4046-89ef-eb81a788d71f",
   "metadata": {},
   "outputs": [
    {
     "data": {
      "text/plain": [
       "[<matplotlib.lines.Line2D at 0x10ee996a0>]"
      ]
     },
     "execution_count": 19,
     "metadata": {},
     "output_type": "execute_result"
    },
    {
     "data": {
      "image/png": "[encoded data removed]",
      "text/plain": [
       "<Figure size 640x480 with 1 Axes>"
      ]
     },
     "metadata": {},
     "output_type": "display_data"
    }
   ],
   "source": [
    "plt.plot(get_global_vote_series(grids))"
   ]
  },
  {
   "cell_type": "code",
   "execution_count": 20,
   "id": "d914b02c-e678-4747-af16-da4973631404",
   "metadata": {},
   "outputs": [
    {
     "data": {
      "text/plain": [
       "<matplotlib.image.AxesImage at 0x10ef78df0>"
      ]
     },
     "execution_count": 20,
     "metadata": {},
     "output_type": "execute_result"
    },
    {
     "data": {
      "image/png": "[encoded data removed]",
      "text/plain": [
       "<Figure size 640x480 with 1 Axes>"
      ]
     },
     "metadata": {},
     "output_type": "display_data"
    }
   ],
   "source": [
    "plt.imshow(1-grids[10], cmap=\"Greys\")\n"
   ]
  },
  {
   "cell_type": "code",
   "execution_count": 21,
   "id": "43eaa00e-041d-4abe-a1af-139acf3b091a",
   "metadata": {},
   "outputs": [
    {
     "data": {
      "text/plain": [
       "<matplotlib.image.AxesImage at 0x10bbd6880>"
      ]
     },
     "execution_count": 21,
     "metadata": {},
     "output_type": "execute_result"
    },
    {
     "data": {
      "image/png": "[encoded data removed]",
      "text/plain": [
       "<Figure size 640x480 with 1 Axes>"
      ]
     },
     "metadata": {},
     "output_type": "display_data"
    }
   ],
   "source": [
    "plt.imshow(1-grids[24], cmap=\"Greys\")\n"
   ]
  },
  {
   "cell_type": "code",
   "execution_count": 22,
   "id": "bc57973c-fafb-49a5-96ac-827fc5183f88",
   "metadata": {},
   "outputs": [
    {
     "data": {
      "text/html": [
       "<img src=\"data:image/gif;base64,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\" width=350, height=350/>"
      ],
      "text/plain": [
       "<IPython.core.display.HTML object>"
      ]
     },
     "metadata": {},
     "output_type": "display_data"
    }
   ],
   "source": [
    "import base64\n",
    "from IPython.core.display import HTML\n",
    "\n",
    "imgs = [PIL.Image.fromarray(arr*255) for arr in grids]\n",
    "imgs[0].save(fp=\"images/run.gif\",format=\"GIF\", append_images=imgs,  duration=37, save_all=True, loop=0)\n",
    "\n",
    "b64 = base64.b64encode(open(\"images/run.gif\",'rb').read()).decode('ascii')\n",
    "display(HTML(f'<img src=\"data:image/gif;base64,{b64}\" width=350, height=350/>'))"
   ]
  },
  {
   "cell_type": "markdown",
   "id": "83437358-4e92-4ef5-8ba2-2f586290ad3a",
   "metadata": {},
   "source": [
    "### Numero de clusters"
   ]
  },
  {
   "cell_type": "code",
   "execution_count": 23,
   "id": "0314f0fb-ace5-477a-ab0c-ea14dfe270b2",
   "metadata": {},
   "outputs": [
    {
     "data": {
      "text/plain": [
       "[<matplotlib.lines.Line2D at 0x10eed7d60>]"
      ]
     },
     "execution_count": 23,
     "metadata": {},
     "output_type": "execute_result"
    },
    {
     "data": {
      "image/png": "[encoded data removed]",
      "text/plain": [
       "<Figure size 640x480 with 1 Axes>"
      ]
     },
     "metadata": {},
     "output_type": "display_data"
    }
   ],
   "source": [
    "clusters =  [ get_clusters(grids[x]) for x in range(len(grids)) ] \n",
    "plt.plot(clusters)"
   ]
  },
  {
   "cell_type": "markdown",
   "id": "85ee4186-647a-4e82-9330-b7ce37d4f8f4",
   "metadata": {},
   "source": [
    "### Porcentaje de 1 para distintas probabilidades iniciales"
   ]
  },
  {
   "cell_type": "code",
   "execution_count": 24,
   "id": "d3eff158-ab25-4b61-ac03-b022aabdc0e9",
   "metadata": {},
   "outputs": [
    {
     "name": "stdout",
     "output_type": "stream",
     "text": [
      "PCD++: A Tool to Implement n-Dimensional Cell-DEVS models\n",
      "Version 3.0 - March 2003\n",
      "Troccoli A., Rodriguez D., Wainer G., Barylko A., Beyoglonian J., Lopez A.\n",
      "-----------------------------------------------------------------------------\n",
      "PCD++ Extended States: An extended and improved version of CD++ for Cell-DEVS\n",
      "Version 4.1.2 - December 2018\n",
      "Santi L., Castro, R., Pimás, J.\n",
      "-----------------------------------------------------------------------------\n",
      "Discrete Event Simulation Lab\n",
      "Departamento de Computación\n",
      "Facultad de Ciencias Exactas y Naturales\n",
      "Universidad de Buenos Aires, Argentina\n",
      "-----------------------------------------------------------------------------\n",
      "Compiled for standalone simulation\n",
      "\n",
      "\n",
      "Loading models from majority.ma\n",
      "Loading events from \n",
      "Running parallel simulation. Reading models partition from \n",
      "Model partition details output to: /dev/null*\n",
      "Message log: logs/majority.log\n",
      "Output to: /dev/null\n",
      "Tolerance set to: 1e-08\n",
      "Configuration to show real numbers: Width = 12 - Precision = 5\n",
      "Quantum: Not used\n",
      "Evaluate Debug Mode = OFF\n",
      "Flat Cell Debug Mode = OFF\n",
      "Debug Cell Rules Mode = OFF\n",
      "Temporary File created by Preprocessor = /var/tmp/tmp.0.TnECH9\n",
      "Printing parser information = OFF\n",
      "\n",
      "Stop at time: 00:32:00:000:0\n",
      "LP 0: initializing simulation objects\n",
      "LP 0: starting simulation (NoTime).\n"
     ]
    },
    {
     "name": "stderr",
     "output_type": "stream",
     "text": [
      "At 00:00:00:902:0\r"
     ]
    },
    {
     "name": "stdout",
     "output_type": "stream",
     "text": [
      "Simulation complete!\n",
      "Simulation ended!\n",
      "LP 0 has finished simulation \n",
      "PCD++: A Tool to Implement n-Dimensional Cell-DEVS models\n",
      "Version 3.0 - March 2003\n",
      "Troccoli A., Rodriguez D., Wainer G., Barylko A., Beyoglonian J., Lopez A.\n",
      "-----------------------------------------------------------------------------\n",
      "PCD++ Extended States: An extended and improved version of CD++ for Cell-DEVS\n",
      "Version 4.1.2 - December 2018\n",
      "Santi L., Castro, R., Pimás, J.\n",
      "-----------------------------------------------------------------------------\n",
      "Discrete Event Simulation Lab\n",
      "Departamento de Computación\n",
      "Facultad de Ciencias Exactas y Naturales\n",
      "Universidad de Buenos Aires, Argentina\n",
      "-----------------------------------------------------------------------------\n",
      "Compiled for standalone simulation\n",
      "\n",
      "\n",
      "Loading models from majority.ma\n",
      "Loading events from \n",
      "Running parallel simulation. Reading models partition from \n",
      "Model partition details output to: /dev/null*\n",
      "Message log: logs/majority.log\n",
      "Output to: /dev/null\n",
      "Tolerance set to: 1e-08\n",
      "Configuration to show real numbers: Width = 12 - Precision = 5\n",
      "Quantum: Not used\n",
      "Evaluate Debug Mode = OFF\n",
      "Flat Cell Debug Mode = OFF\n",
      "Debug Cell Rules Mode = OFF\n",
      "Temporary File created by Preprocessor = /var/tmp/tmp.0.mHztY5\n",
      "Printing parser information = OFF\n",
      "\n",
      "Stop at time: 00:32:00:000:0\n",
      "LP 0: initializing simulation objects\n",
      "LP 0: starting simulation (NoTime).\n"
     ]
    },
    {
     "name": "stderr",
     "output_type": "stream",
     "text": [
      "At 00:00:02:921:0\r"
     ]
    },
    {
     "name": "stdout",
     "output_type": "stream",
     "text": [
      "Simulation complete!\n",
      "Simulation ended!\n",
      "LP 0 has finished simulation \n",
      "PCD++: A Tool to Implement n-Dimensional Cell-DEVS models\n",
      "Version 3.0 - March 2003\n",
      "Troccoli A., Rodriguez D., Wainer G., Barylko A., Beyoglonian J., Lopez A.\n",
      "-----------------------------------------------------------------------------\n",
      "PCD++ Extended States: An extended and improved version of CD++ for Cell-DEVS\n",
      "Version 4.1.2 - December 2018\n",
      "Santi L., Castro, R., Pimás, J.\n",
      "-----------------------------------------------------------------------------\n",
      "Discrete Event Simulation Lab\n",
      "Departamento de Computación\n",
      "Facultad de Ciencias Exactas y Naturales\n",
      "Universidad de Buenos Aires, Argentina\n",
      "-----------------------------------------------------------------------------\n",
      "Compiled for standalone simulation\n",
      "\n",
      "\n",
      "Loading models from majority.ma\n",
      "Loading events from \n",
      "Running parallel simulation. Reading models partition from \n",
      "Model partition details output to: /dev/null*\n",
      "Message log: logs/majority.log\n",
      "Output to: /dev/null\n",
      "Tolerance set to: 1e-08\n",
      "Configuration to show real numbers: Width = 12 - Precision = 5\n",
      "Quantum: Not used\n",
      "Evaluate Debug Mode = OFF\n",
      "Flat Cell Debug Mode = OFF\n",
      "Debug Cell Rules Mode = OFF\n",
      "Temporary File created by Preprocessor = /var/tmp/tmp.0.kkr136\n",
      "Printing parser information = OFF\n",
      "\n",
      "Stop at time: 00:32:00:000:0\n",
      "LP 0: initializing simulation objects\n",
      "LP 0: starting simulation (NoTime).\n"
     ]
    },
    {
     "name": "stderr",
     "output_type": "stream",
     "text": [
      "At 00:00:02:381:0\r"
     ]
    },
    {
     "name": "stdout",
     "output_type": "stream",
     "text": [
      "Simulation complete!\n",
      "Simulation ended!\n",
      "LP 0 has finished simulation \n"
     ]
    },
    {
     "data": {
      "image/png": "[encoded data removed]",
      "text/plain": [
       "<Figure size 640x480 with 1 Axes>"
      ]
     },
     "metadata": {},
     "output_type": "display_data"
    }
   ],
   "source": [
    "for p in [0.2, 0.4, 0.5]:\n",
    "    initial_val_generator(rows,columns, p)\n",
    "    run_majority()\n",
    "    grids = numpy_arrays_from_log(rows,columns)\n",
    "    plt.plot(get_global_vote_series(grids), label=str(p))\n",
    "    plt.legend()"
   ]
  },
  {
   "cell_type": "markdown",
   "id": "e7eae31c-65aa-4a4d-a314-aa597e91f2dd",
   "metadata": {},
   "source": [
    "### Numero de clusters para distintas probabilidades iniciales"
   ]
  },
  {
   "cell_type": "code",
   "execution_count": 25,
   "id": "e20ba500-fd30-409c-95d6-3f01e85f63ed",
   "metadata": {},
   "outputs": [
    {
     "name": "stdout",
     "output_type": "stream",
     "text": [
      "PCD++: A Tool to Implement n-Dimensional Cell-DEVS models\n",
      "Version 3.0 - March 2003\n",
      "Troccoli A., Rodriguez D., Wainer G., Barylko A., Beyoglonian J., Lopez A.\n",
      "-----------------------------------------------------------------------------\n",
      "PCD++ Extended States: An extended and improved version of CD++ for Cell-DEVS\n",
      "Version 4.1.2 - December 2018\n",
      "Santi L., Castro, R., Pimás, J.\n",
      "-----------------------------------------------------------------------------\n",
      "Discrete Event Simulation Lab\n",
      "Departamento de Computación\n",
      "Facultad de Ciencias Exactas y Naturales\n",
      "Universidad de Buenos Aires, Argentina\n",
      "-----------------------------------------------------------------------------\n",
      "Compiled for standalone simulation\n",
      "\n",
      "\n",
      "Loading models from majority.ma\n",
      "Loading events from \n",
      "Running parallel simulation. Reading models partition from \n",
      "Model partition details output to: /dev/null*\n",
      "Message log: logs/majority.log\n",
      "Output to: /dev/null\n",
      "Tolerance set to: 1e-08\n",
      "Configuration to show real numbers: Width = 12 - Precision = 5\n",
      "Quantum: Not used\n",
      "Evaluate Debug Mode = OFF\n",
      "Flat Cell Debug Mode = OFF\n",
      "Debug Cell Rules Mode = OFF\n",
      "Temporary File created by Preprocessor = /var/tmp/tmp.0.VBgkrF\n",
      "Printing parser information = OFF\n",
      "\n",
      "Stop at time: 00:32:00:000:0\n",
      "LP 0: initializing simulation objects\n",
      "LP 0: starting simulation (NoTime).\n"
     ]
    },
    {
     "name": "stderr",
     "output_type": "stream",
     "text": [
      "At 00:00:00:802:0\r"
     ]
    },
    {
     "name": "stdout",
     "output_type": "stream",
     "text": [
      "Simulation complete!\n",
      "Simulation ended!\n",
      "LP 0 has finished simulation \n",
      "PCD++: A Tool to Implement n-Dimensional Cell-DEVS models\n",
      "Version 3.0 - March 2003\n",
      "Troccoli A., Rodriguez D., Wainer G., Barylko A., Beyoglonian J., Lopez A.\n",
      "-----------------------------------------------------------------------------\n",
      "PCD++ Extended States: An extended and improved version of CD++ for Cell-DEVS\n",
      "Version 4.1.2 - December 2018\n",
      "Santi L., Castro, R., Pimás, J.\n",
      "-----------------------------------------------------------------------------\n",
      "Discrete Event Simulation Lab\n",
      "Departamento de Computación\n",
      "Facultad de Ciencias Exactas y Naturales\n",
      "Universidad de Buenos Aires, Argentina\n",
      "-----------------------------------------------------------------------------\n",
      "Compiled for standalone simulation\n",
      "\n",
      "\n",
      "Loading models from majority.ma\n",
      "Loading events from \n",
      "Running parallel simulation. Reading models partition from \n",
      "Model partition details output to: /dev/null*\n",
      "Message log: logs/majority.log\n",
      "Output to: /dev/null\n",
      "Tolerance set to: 1e-08\n",
      "Configuration to show real numbers: Width = 12 - Precision = 5\n",
      "Quantum: Not used\n",
      "Evaluate Debug Mode = OFF\n",
      "Flat Cell Debug Mode = OFF\n",
      "Debug Cell Rules Mode = OFF\n",
      "Temporary File created by Preprocessor = /var/tmp/tmp.0.PqkdtN\n",
      "Printing parser information = OFF\n",
      "\n",
      "Stop at time: 00:32:00:000:0\n",
      "LP 0: initializing simulation objects\n",
      "LP 0: starting simulation (NoTime).\n"
     ]
    },
    {
     "name": "stderr",
     "output_type": "stream",
     "text": [
      "At 00:00:01:770:0\r"
     ]
    },
    {
     "name": "stdout",
     "output_type": "stream",
     "text": [
      "Simulation complete!\n",
      "Simulation ended!\n",
      "LP 0 has finished simulation \n",
      "PCD++: A Tool to Implement n-Dimensional Cell-DEVS models\n",
      "Version 3.0 - March 2003\n",
      "Troccoli A., Rodriguez D., Wainer G., Barylko A., Beyoglonian J., Lopez A.\n",
      "-----------------------------------------------------------------------------\n",
      "PCD++ Extended States: An extended and improved version of CD++ for Cell-DEVS\n",
      "Version 4.1.2 - December 2018\n",
      "Santi L., Castro, R., Pimás, J.\n",
      "-----------------------------------------------------------------------------\n",
      "Discrete Event Simulation Lab\n",
      "Departamento de Computación\n",
      "Facultad de Ciencias Exactas y Naturales\n",
      "Universidad de Buenos Aires, Argentina\n",
      "-----------------------------------------------------------------------------\n",
      "Compiled for standalone simulation\n",
      "\n",
      "\n",
      "Loading models from majority.ma\n",
      "Loading events from \n",
      "Running parallel simulation. Reading models partition from \n",
      "Model partition details output to: /dev/null*\n",
      "Message log: logs/majority.log\n",
      "Output to: /dev/null\n",
      "Tolerance set to: 1e-08\n",
      "Configuration to show real numbers: Width = 12 - Precision = 5\n",
      "Quantum: Not used\n",
      "Evaluate Debug Mode = OFF\n",
      "Flat Cell Debug Mode = OFF\n",
      "Debug Cell Rules Mode = OFF\n",
      "Temporary File created by Preprocessor = /var/tmp/tmp.0.V5Y90R\n",
      "Printing parser information = OFF\n",
      "\n",
      "Stop at time: 00:32:00:000:0\n",
      "LP 0: initializing simulation objects\n",
      "LP 0: starting simulation (NoTime).\n"
     ]
    },
    {
     "name": "stderr",
     "output_type": "stream",
     "text": [
      "At 00:00:02:184:0\r"
     ]
    },
    {
     "name": "stdout",
     "output_type": "stream",
     "text": [
      "Simulation complete!\n",
      "Simulation ended!\n",
      "LP 0 has finished simulation \n"
     ]
    },
    {
     "data": {
      "image/png": "[encoded data removed]",
      "text/plain": [
       "<Figure size 640x480 with 1 Axes>"
      ]
     },
     "metadata": {},
     "output_type": "display_data"
    }
   ],
   "source": [
    "for p in [0.2, 0.4, 0.5]:\n",
    "    initial_val_generator(rows,columns, p)\n",
    "    run_majority()\n",
    "    grids = numpy_arrays_from_log(rows,columns)\n",
    "    clusters =  [ get_clusters(grids[x]) for x in range(len(grids)) ] \n",
    "    plt.plot(clusters, label=str(p))\n",
    "    plt.legend()"
   ]
  },
  {
   "cell_type": "code",
   "execution_count": 26,
   "id": "26eaf044-2cdc-4dfe-93fa-d9364893a53b",
   "metadata": {},
   "outputs": [
    {
     "data": {
      "text/plain": [
       "<matplotlib.image.AxesImage at 0x10f8931f0>"
      ]
     },
     "execution_count": 26,
     "metadata": {},
     "output_type": "execute_result"
    },
    {
     "data": {
      "image/png": "[encoded data removed]",
      "text/plain": [
       "<Figure size 640x480 with 1 Axes>"
      ]
     },
     "metadata": {},
     "output_type": "display_data"
    }
   ],
   "source": [
    "plt.imshow(grids[17])\n"
   ]
  },
  {
   "cell_type": "code",
   "execution_count": 27,
   "id": "bad44acf-850e-40b9-9a60-9495f25d7c93",
   "metadata": {},
   "outputs": [
    {
     "ename": "TypeError",
     "evalue": "numpy_arrays_from_log() missing 2 required positional arguments: 'rows' and 'columns'",
     "output_type": "error",
     "traceback": [
      "\u001b[0;31m---------------------------------------------------------------------------\u001b[0m",
      "\u001b[0;31mTypeError\u001b[0m                                 Traceback (most recent call last)",
      "Input \u001b[0;32mIn [27]\u001b[0m, in \u001b[0;36m<cell line: 1>\u001b[0;34m()\u001b[0m\n\u001b[0;32m----> 1\u001b[0m \u001b[43mnumpy_arrays_from_log\u001b[49m\u001b[43m(\u001b[49m\u001b[43m)\u001b[49m\n",
      "\u001b[0;31mTypeError\u001b[0m: numpy_arrays_from_log() missing 2 required positional arguments: 'rows' and 'columns'"
     ]
    }
   ],
   "source": [
    "numpy_arrays_from_log()"
   ]
  },
  {
   "cell_type": "code",
   "execution_count": null,
   "id": "ce97ef0b-12fc-4718-b2d8-60389fb902da",
   "metadata": {},
   "outputs": [],
   "source": []
  }
 ],
 "metadata": {
  "kernelspec": {
   "display_name": "Python 3 (ipykernel)",
   "language": "python",
   "name": "python3"
  },
  "language_info": {
   "codemirror_mode": {
    "name": "ipython",
    "version": 3
   },
   "file_extension": ".py",
   "mimetype": "text/x-python",
   "name": "python",
   "nbconvert_exporter": "python",
   "pygments_lexer": "ipython3",
   "version": "3.9.15"
  }
 },
 "nbformat": 4,
 "nbformat_minor": 5
}
